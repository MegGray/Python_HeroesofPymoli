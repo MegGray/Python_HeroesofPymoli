{
 "cells": [
  {
   "cell_type": "markdown",
   "metadata": {},
   "source": [
    "### Heroes Of Pymoli Data Analysis Findings\n",
    "#### Work Completed by Megan Gray\n",
    "\n",
    "* There are 576 active players. The highest percentage of players at 84% are male. The remaining percentage of players are female 14% and other/non-disclosed at 2%.\n",
    "\n",
    "* The number of purchases documented in this analysis is 780. Of the 780 purchases, 652 were purchased by male players, 113 by females, and 15 by Other/Non-Disclosed players. Teh average total purchase per person shows male players had the lowest average at $4.07, females at $4.47, and Other/Non-disclosed at $4.56.\n",
    "\n",
    "* While male players purchased more items, the average purchase price and the average total purchase per person shows that their purchase choices were cheaper on average than those items purchased by other players. This may be attributed to the large volume of purchases in comparison to the other two categories.\n",
    "\n",
    "* The age breakdown of the players in this analysis shows that 20-24 year olds holds the highest percentage of players at 63\\%, while 15-19 year olds hold second place at 24\\%. The age group with the lowest percentage were players 40 years old and older.\n",
    "\n",
    "* Of the different age-groups, not surprisingly, the 20-24 year olds and 15-19 year olds purchased the most amount of items. Meanwhile, the top two categories that had the highest average purchase total per person were 35-39 year olds and children less than 10 years old. This may be attributed to a steady income, or purchases made by a childs' parent.\n",
    "\n",
    "* In the analysis - the top 5 spenders were found to be Lisosia83, Idastidru52, Chamjask73, Iral74, and Iskadarya95. These top 5 spenders purchased 19 items total, and spent a total of $74.96.\n",
    "\n",
    "* The top 5 most popular items were \"Oathbreaker, Last Hope of the Breaking Storm\", \"Nirvana\", \"Firery Glass Crusader\", \"Final Critic\", and \"Singed Scalpel\"."
   ]
  },
  {
   "cell_type": "markdown",
   "metadata": {},
   "source": [
    "### Assignment Specifications\n",
    "The company would like you to generate a report that breaks down a game's purchasing data into meaningful insights.\n",
    "\n",
    "Your final report should include each of the following:\n",
    "\n",
    "Player Count\n",
    "* Total Number of Players\n",
    "\n",
    "Purchasing Analysis (Total)\n",
    "* Number of Unique Items\n",
    "* Average Purchase Price\n",
    "* Total Number of Purchases\n",
    "* Total Revenue\n",
    "\n",
    "Gender Demographics\n",
    "* Percentage and Count of Male Players\n",
    "* Percentage and Count of Female Players\n",
    "* Percentage and Count of Other / Non-Disclosed\n",
    "\n",
    "Purchasing Analysis (Gender)\n",
    "* The below each broken by gender\n",
    "* Purchase Count\n",
    "* Average Purchase Price\n",
    "* Total Purchase Value\n",
    "* Average Purchase Total per Person by Gender\n",
    "\n",
    "Age Demographics\n",
    "* The below each broken into bins of 4 years (i.e. &lt;10, 10-14, 15-19, etc.)\n",
    "* Purchase Count\n",
    "* Average Purchase Price\n",
    "* Total Purchase Value\n",
    "* Average Purchase Total per Person by Age Group\n",
    "\n",
    "Top Spenders\n",
    "* Identify the the top 5 spenders in the game by total purchase value, then list (in a table):\n",
    "* SN\n",
    "* Purchase Count\n",
    "* Average Purchase Price\n",
    "* Total Purchase Value\n",
    "\n",
    "Most Popular Items\n",
    "* Identify the 5 most popular items by purchase count, then list (in a table):\n",
    "* Item ID\n",
    "* Item Name\n",
    "* Purchase Count\n",
    "* Item Price\n",
    "* Total Purchase Value\n",
    "\n",
    "Most Profitable Items\n",
    "* Identify the 5 most profitable items by total purchase value, then list (in a table):\n",
    "* Item ID\n",
    "* Item Name\n",
    "* Purchase Count\n",
    "* Item Price\n",
    "* Total Purchase Value\n",
    "\n",
    "As final considerations:\n",
    "* You must use the Pandas Library and the Jupyter Notebook.\n",
    "* You must submit a link to your Jupyter Notebook with the viewable Data Frames.\n",
    "* You must include a written description of three observable trends based on the data."
   ]
  },
  {
   "cell_type": "code",
   "execution_count": 2,
   "metadata": {},
   "outputs": [],
   "source": [
    "# Import pandas and numpy in order to run operations for program.\n",
    "import pandas as pd\n",
    "import numpy as np\n",
    "\n",
    "# load CSV file\n",
    "Heroes_File = \"Resources/purchase_data.csv\"\n",
    "\n",
    "# Read Purchasing File and store into Pandas data frame\n",
    "purchase_info = pd.read_csv(Heroes_File)"
   ]
  },
  {
   "cell_type": "code",
   "execution_count": 3,
   "metadata": {},
   "outputs": [
    {
     "data": {
      "text/html": [
       "<div>\n",
       "<style scoped>\n",
       "    .dataframe tbody tr th:only-of-type {\n",
       "        vertical-align: middle;\n",
       "    }\n",
       "\n",
       "    .dataframe tbody tr th {\n",
       "        vertical-align: top;\n",
       "    }\n",
       "\n",
       "    .dataframe thead th {\n",
       "        text-align: right;\n",
       "    }\n",
       "</style>\n",
       "<table border=\"1\" class=\"dataframe\">\n",
       "  <thead>\n",
       "    <tr style=\"text-align: right;\">\n",
       "      <th></th>\n",
       "      <th>Purchase ID</th>\n",
       "      <th>SN</th>\n",
       "      <th>Age</th>\n",
       "      <th>Gender</th>\n",
       "      <th>Item ID</th>\n",
       "      <th>Item Name</th>\n",
       "      <th>Price</th>\n",
       "    </tr>\n",
       "  </thead>\n",
       "  <tbody>\n",
       "    <tr>\n",
       "      <th>0</th>\n",
       "      <td>0</td>\n",
       "      <td>Lisim78</td>\n",
       "      <td>20</td>\n",
       "      <td>Male</td>\n",
       "      <td>108</td>\n",
       "      <td>Extraction, Quickblade Of Trembling Hands</td>\n",
       "      <td>3.53</td>\n",
       "    </tr>\n",
       "    <tr>\n",
       "      <th>1</th>\n",
       "      <td>1</td>\n",
       "      <td>Lisovynya38</td>\n",
       "      <td>40</td>\n",
       "      <td>Male</td>\n",
       "      <td>143</td>\n",
       "      <td>Frenzied Scimitar</td>\n",
       "      <td>1.56</td>\n",
       "    </tr>\n",
       "    <tr>\n",
       "      <th>2</th>\n",
       "      <td>2</td>\n",
       "      <td>Ithergue48</td>\n",
       "      <td>24</td>\n",
       "      <td>Male</td>\n",
       "      <td>92</td>\n",
       "      <td>Final Critic</td>\n",
       "      <td>4.88</td>\n",
       "    </tr>\n",
       "    <tr>\n",
       "      <th>3</th>\n",
       "      <td>3</td>\n",
       "      <td>Chamassasya86</td>\n",
       "      <td>24</td>\n",
       "      <td>Male</td>\n",
       "      <td>100</td>\n",
       "      <td>Blindscythe</td>\n",
       "      <td>3.27</td>\n",
       "    </tr>\n",
       "    <tr>\n",
       "      <th>4</th>\n",
       "      <td>4</td>\n",
       "      <td>Iskosia90</td>\n",
       "      <td>23</td>\n",
       "      <td>Male</td>\n",
       "      <td>131</td>\n",
       "      <td>Fury</td>\n",
       "      <td>1.44</td>\n",
       "    </tr>\n",
       "  </tbody>\n",
       "</table>\n",
       "</div>"
      ],
      "text/plain": [
       "   Purchase ID             SN  Age Gender  Item ID  \\\n",
       "0            0        Lisim78   20   Male      108   \n",
       "1            1    Lisovynya38   40   Male      143   \n",
       "2            2     Ithergue48   24   Male       92   \n",
       "3            3  Chamassasya86   24   Male      100   \n",
       "4            4      Iskosia90   23   Male      131   \n",
       "\n",
       "                                   Item Name  Price  \n",
       "0  Extraction, Quickblade Of Trembling Hands   3.53  \n",
       "1                          Frenzied Scimitar   1.56  \n",
       "2                               Final Critic   4.88  \n",
       "3                                Blindscythe   3.27  \n",
       "4                                       Fury   1.44  "
      ]
     },
     "execution_count": 3,
     "metadata": {},
     "output_type": "execute_result"
    }
   ],
   "source": [
    "# Determine table basics.\n",
    "\n",
    "# purchase_info.describe()\n",
    "# purchase_info.info()\n",
    "purchase_info.head()"
   ]
  },
  {
   "cell_type": "markdown",
   "metadata": {},
   "source": [
    "----\n",
    "## Assignment Specifications\n",
    "The company would like you to generate a report that breaks down a game's purchasing data into meaningful insights.\n",
    "\n",
    "Your final report should include each of the following:"
   ]
  },
  {
   "cell_type": "markdown",
   "metadata": {},
   "source": [
    "### Player Count\n",
    "* Display the total number of players"
   ]
  },
  {
   "cell_type": "code",
   "execution_count": 4,
   "metadata": {},
   "outputs": [
    {
     "data": {
      "text/html": [
       "<div>\n",
       "<style scoped>\n",
       "    .dataframe tbody tr th:only-of-type {\n",
       "        vertical-align: middle;\n",
       "    }\n",
       "\n",
       "    .dataframe tbody tr th {\n",
       "        vertical-align: top;\n",
       "    }\n",
       "\n",
       "    .dataframe thead th {\n",
       "        text-align: right;\n",
       "    }\n",
       "</style>\n",
       "<table border=\"1\" class=\"dataframe\">\n",
       "  <thead>\n",
       "    <tr style=\"text-align: right;\">\n",
       "      <th></th>\n",
       "      <th>Total Players</th>\n",
       "    </tr>\n",
       "  </thead>\n",
       "  <tbody>\n",
       "    <tr>\n",
       "      <th>0</th>\n",
       "      <td>576</td>\n",
       "    </tr>\n",
       "  </tbody>\n",
       "</table>\n",
       "</div>"
      ],
      "text/plain": [
       "   Total Players\n",
       "0            576"
      ]
     },
     "execution_count": 4,
     "metadata": {},
     "output_type": "execute_result"
    }
   ],
   "source": [
    "# First - create dataframe of columns needed for this section: Gender, SN, and Age\n",
    "player_specs = purchase_info.loc[:, [\"Gender\", \"SN\", \"Age\"]]\n",
    "\n",
    "# Calculate the number of unique players. *Remember to remove duplicates!\n",
    "player_specs = player_specs.drop_duplicates()\n",
    "number_players = player_specs.count()[0]\n",
    "total_players = pd.DataFrame([{\"Total Players\": number_players}])\n",
    "total_players"
   ]
  },
  {
   "cell_type": "markdown",
   "metadata": {},
   "source": [
    "### Purchasing Analysis (Total)\n",
    "* Run basic analysis to determine number of unique items, total revenue, avg price, etc.\n",
    "* Summarize data in final dataframe\n",
    "* Optional: give the displayed data cleaner formatting\n",
    "* Display the summary data frame"
   ]
  },
  {
   "cell_type": "code",
   "execution_count": 5,
   "metadata": {},
   "outputs": [
    {
     "data": {
      "text/html": [
       "<div>\n",
       "<style scoped>\n",
       "    .dataframe tbody tr th:only-of-type {\n",
       "        vertical-align: middle;\n",
       "    }\n",
       "\n",
       "    .dataframe tbody tr th {\n",
       "        vertical-align: top;\n",
       "    }\n",
       "\n",
       "    .dataframe thead th {\n",
       "        text-align: right;\n",
       "    }\n",
       "</style>\n",
       "<table border=\"1\" class=\"dataframe\">\n",
       "  <thead>\n",
       "    <tr style=\"text-align: right;\">\n",
       "      <th></th>\n",
       "      <th>Number of Unique Items</th>\n",
       "      <th>Average Purchase Price</th>\n",
       "      <th>Total Number of Purchases</th>\n",
       "      <th>Total Revenue</th>\n",
       "    </tr>\n",
       "  </thead>\n",
       "  <tbody>\n",
       "    <tr>\n",
       "      <th>0</th>\n",
       "      <td>183</td>\n",
       "      <td>3.05</td>\n",
       "      <td>780</td>\n",
       "      <td>2379.77</td>\n",
       "    </tr>\n",
       "  </tbody>\n",
       "</table>\n",
       "</div>"
      ],
      "text/plain": [
       "   Number of Unique Items  Average Purchase Price  Total Number of Purchases  \\\n",
       "0                     183                    3.05                        780   \n",
       "\n",
       "   Total Revenue  \n",
       "0        2379.77  "
      ]
     },
     "execution_count": 5,
     "metadata": {},
     "output_type": "execute_result"
    }
   ],
   "source": [
    "# Determine basic calculations for table:\n",
    "Average_price = purchase_info[\"Price\"].mean()\n",
    "Avg_price = round(Average_price, 2)\n",
    "Total_count = purchase_info[\"SN\"].count()\n",
    "Total_sum = purchase_info[\"Price\"].sum()\n",
    "Unique_Items = len(purchase_info[\"Item ID\"].unique())\n",
    "\n",
    "# Create Summary DataFrame\n",
    "Purchasing_DF = pd.DataFrame({\"Number of Unique Items\": Unique_Items,\n",
    "                        \"Average Purchase Price\": Avg_price, \n",
    "                        \"Total Number of Purchases\": Total_count,\n",
    "                        \"Total Revenue\": Total_sum}, index=[0])\n",
    "Purchasing_DF"
   ]
  },
  {
   "cell_type": "markdown",
   "metadata": {},
   "source": [
    "### Gender Demographics\n",
    "* Percentage and Count of Male Players\n",
    "* Percentage and Count of Female Players\n",
    "* Percentage and Count of Other / Non-Disclosed"
   ]
  },
  {
   "cell_type": "code",
   "execution_count": 6,
   "metadata": {},
   "outputs": [
    {
     "data": {
      "text/html": [
       "<div>\n",
       "<style scoped>\n",
       "    .dataframe tbody tr th:only-of-type {\n",
       "        vertical-align: middle;\n",
       "    }\n",
       "\n",
       "    .dataframe tbody tr th {\n",
       "        vertical-align: top;\n",
       "    }\n",
       "\n",
       "    .dataframe thead th {\n",
       "        text-align: right;\n",
       "    }\n",
       "</style>\n",
       "<table border=\"1\" class=\"dataframe\">\n",
       "  <thead>\n",
       "    <tr style=\"text-align: right;\">\n",
       "      <th></th>\n",
       "      <th>Total Count</th>\n",
       "      <th>Percentage of Players</th>\n",
       "    </tr>\n",
       "  </thead>\n",
       "  <tbody>\n",
       "    <tr>\n",
       "      <th>Male</th>\n",
       "      <td>484</td>\n",
       "      <td>84.03</td>\n",
       "    </tr>\n",
       "    <tr>\n",
       "      <th>Female</th>\n",
       "      <td>81</td>\n",
       "      <td>14.06</td>\n",
       "    </tr>\n",
       "    <tr>\n",
       "      <th>Other / Non-Disclosed</th>\n",
       "      <td>11</td>\n",
       "      <td>1.91</td>\n",
       "    </tr>\n",
       "  </tbody>\n",
       "</table>\n",
       "</div>"
      ],
      "text/plain": [
       "                       Total Count  Percentage of Players\n",
       "Male                           484                  84.03\n",
       "Female                          81                  14.06\n",
       "Other / Non-Disclosed           11                   1.91"
      ]
     },
     "execution_count": 6,
     "metadata": {},
     "output_type": "execute_result"
    }
   ],
   "source": [
    "# Calculate the total number and percentage of players per gender category.\n",
    "gender_numbers = player_specs[\"Gender\"].value_counts()\n",
    "gender_percents = gender_numbers / number_players * 100\n",
    "gender_specs = pd.DataFrame({\"Total Count\":gender_numbers, \"Percentage of Players\":gender_percents})\n",
    "\n",
    "# Round to 2 decimal places\n",
    "gender_specs = gender_specs.round(2)\n",
    "\n",
    "gender_specs"
   ]
  },
  {
   "cell_type": "markdown",
   "metadata": {},
   "source": [
    "### Purchasing Analysis (Gender)"
   ]
  },
  {
   "cell_type": "markdown",
   "metadata": {},
   "source": [
    "* Run basic calculations to obtain purchase count, avg. purchase price, avg. purchase total per person etc. by gender\n",
    "\n",
    "\n",
    "\n",
    "\n",
    "* Create a summary data frame to hold the results\n",
    "\n",
    "\n",
    "* Optional: give the displayed data cleaner formatting\n",
    "\n",
    "\n",
    "* Display the summary data frame"
   ]
  },
  {
   "cell_type": "code",
   "execution_count": 7,
   "metadata": {},
   "outputs": [
    {
     "data": {
      "text/html": [
       "<div>\n",
       "<style scoped>\n",
       "    .dataframe tbody tr th:only-of-type {\n",
       "        vertical-align: middle;\n",
       "    }\n",
       "\n",
       "    .dataframe tbody tr th {\n",
       "        vertical-align: top;\n",
       "    }\n",
       "\n",
       "    .dataframe thead th {\n",
       "        text-align: right;\n",
       "    }\n",
       "</style>\n",
       "<table border=\"1\" class=\"dataframe\">\n",
       "  <thead>\n",
       "    <tr style=\"text-align: right;\">\n",
       "      <th></th>\n",
       "      <th>Purchase Count</th>\n",
       "      <th>Avg Purchase Price</th>\n",
       "      <th>Total Purchase Value</th>\n",
       "      <th>Avg Total Purchase per Person</th>\n",
       "    </tr>\n",
       "    <tr>\n",
       "      <th>Gender</th>\n",
       "      <th></th>\n",
       "      <th></th>\n",
       "      <th></th>\n",
       "      <th></th>\n",
       "    </tr>\n",
       "  </thead>\n",
       "  <tbody>\n",
       "    <tr>\n",
       "      <th>Female</th>\n",
       "      <td>113</td>\n",
       "      <td>$3.20</td>\n",
       "      <td>$361.94</td>\n",
       "      <td>$4.47</td>\n",
       "    </tr>\n",
       "    <tr>\n",
       "      <th>Male</th>\n",
       "      <td>652</td>\n",
       "      <td>$3.02</td>\n",
       "      <td>$1,967.64</td>\n",
       "      <td>$4.07</td>\n",
       "    </tr>\n",
       "    <tr>\n",
       "      <th>Other / Non-Disclosed</th>\n",
       "      <td>15</td>\n",
       "      <td>$3.35</td>\n",
       "      <td>$50.19</td>\n",
       "      <td>$4.56</td>\n",
       "    </tr>\n",
       "  </tbody>\n",
       "</table>\n",
       "</div>"
      ],
      "text/plain": [
       "                      Purchase Count Avg Purchase Price Total Purchase Value  \\\n",
       "Gender                                                                         \n",
       "Female                           113              $3.20              $361.94   \n",
       "Male                             652              $3.02            $1,967.64   \n",
       "Other / Non-Disclosed             15              $3.35               $50.19   \n",
       "\n",
       "                      Avg Total Purchase per Person  \n",
       "Gender                                               \n",
       "Female                                        $4.47  \n",
       "Male                                          $4.07  \n",
       "Other / Non-Disclosed                         $4.56  "
      ]
     },
     "execution_count": 7,
     "metadata": {},
     "output_type": "execute_result"
    }
   ],
   "source": [
    "# Create table to include gender count, total purchase price, avg price per person, avg price per gender \n",
    "\n",
    "# Complete basic calculations \n",
    "gender_count = purchase_info.groupby([\"Gender\"]).count()[\"Price\"].rename(\"Purchase Count\")\n",
    "gender_purchase_sum = purchase_info.groupby([\"Gender\"]).sum()[\"Price\"].rename(\"Total Purchase Value\")\n",
    "gender_mean = purchase_info.groupby([\"Gender\"]).mean()[\"Price\"].rename(\"Avg Purchase Price\")\n",
    "\n",
    "# Determine the 'Normalized Purchasing' Value (Avg Total Purchase per Person)\n",
    "normalized_gender = gender_purchase_sum / gender_specs[\"Total Count\"]\n",
    "\n",
    "# Combine values into dataframe\n",
    "gender_purchase_analysis = pd.DataFrame({\"Purchase Count\":gender_count,\n",
    "                                        \"Avg Purchase Price\":gender_mean,\n",
    "                                        \"Total Purchase Value\":gender_purchase_sum,\n",
    "                                        \"Normalized Totals\": normalized_gender                                        \n",
    "                                        })\n",
    "# Format table\n",
    "gender_purchase_analysis[\"Avg Purchase Price\"] = gender_purchase_analysis[\"Avg Purchase Price\"].map(\"${:,.2f}\".format)\n",
    "gender_purchase_analysis[\"Total Purchase Value\"] = gender_purchase_analysis[\"Total Purchase Value\"].map(\"${:,.2f}\".format)\n",
    "gender_purchase_analysis[\"Purchase Count\"] = gender_purchase_analysis[\"Purchase Count\"].map(\"{:,}\".format)\n",
    "gender_purchase_analysis[\"Avg Total Purchase per Person\"] = gender_purchase_analysis[\"Normalized Totals\"].map(\"${:,.2f}\".format)\n",
    "\n",
    "gender_purchase_table = gender_purchase_analysis.loc[:, [\"Purchase Count\", \"Avg Purchase Price\", \"Total Purchase Value\", \"Avg Total Purchase per Person\"]]\n",
    "gender_purchase_table"
   ]
  },
  {
   "cell_type": "markdown",
   "metadata": {},
   "source": [
    "### Age Demographics\n",
    "* Establish bins for ages\n",
    "* Categorize the existing players using the age bins. Hint: use pd.cut()\n",
    "* Calculate the numbers and percentages by age group\n",
    "* Create a summary data frame to hold the results\n",
    "* Optional: round the percentage column to two decimal points\n",
    "* Display Age Demographics Table"
   ]
  },
  {
   "cell_type": "code",
   "execution_count": 8,
   "metadata": {},
   "outputs": [
    {
     "data": {
      "text/html": [
       "<div>\n",
       "<style scoped>\n",
       "    .dataframe tbody tr th:only-of-type {\n",
       "        vertical-align: middle;\n",
       "    }\n",
       "\n",
       "    .dataframe tbody tr th {\n",
       "        vertical-align: top;\n",
       "    }\n",
       "\n",
       "    .dataframe thead th {\n",
       "        text-align: right;\n",
       "    }\n",
       "</style>\n",
       "<table border=\"1\" class=\"dataframe\">\n",
       "  <thead>\n",
       "    <tr style=\"text-align: right;\">\n",
       "      <th></th>\n",
       "      <th>Total Count</th>\n",
       "      <th>Percentage of Players</th>\n",
       "    </tr>\n",
       "  </thead>\n",
       "  <tbody>\n",
       "    <tr>\n",
       "      <th>&lt;10</th>\n",
       "      <td>17</td>\n",
       "      <td>2.95</td>\n",
       "    </tr>\n",
       "    <tr>\n",
       "      <th>10-14</th>\n",
       "      <td>22</td>\n",
       "      <td>3.82</td>\n",
       "    </tr>\n",
       "    <tr>\n",
       "      <th>15-19</th>\n",
       "      <td>107</td>\n",
       "      <td>18.58</td>\n",
       "    </tr>\n",
       "    <tr>\n",
       "      <th>20-24</th>\n",
       "      <td>258</td>\n",
       "      <td>44.79</td>\n",
       "    </tr>\n",
       "    <tr>\n",
       "      <th>25-29</th>\n",
       "      <td>77</td>\n",
       "      <td>13.37</td>\n",
       "    </tr>\n",
       "    <tr>\n",
       "      <th>30-34</th>\n",
       "      <td>52</td>\n",
       "      <td>9.03</td>\n",
       "    </tr>\n",
       "    <tr>\n",
       "      <th>35-39</th>\n",
       "      <td>31</td>\n",
       "      <td>5.38</td>\n",
       "    </tr>\n",
       "    <tr>\n",
       "      <th>40+</th>\n",
       "      <td>12</td>\n",
       "      <td>2.08</td>\n",
       "    </tr>\n",
       "  </tbody>\n",
       "</table>\n",
       "</div>"
      ],
      "text/plain": [
       "       Total Count  Percentage of Players\n",
       "<10             17                   2.95\n",
       "10-14           22                   3.82\n",
       "15-19          107                  18.58\n",
       "20-24          258                  44.79\n",
       "25-29           77                  13.37\n",
       "30-34           52                   9.03\n",
       "35-39           31                   5.38\n",
       "40+             12                   2.08"
      ]
     },
     "execution_count": 8,
     "metadata": {},
     "output_type": "execute_result"
    }
   ],
   "source": [
    "# create bins for ages in segments of 4 years\n",
    "ages = [0, 9.99, 14.99, 19.99, 24.99, 29.99, 34.99, 39.99, 9999]\n",
    "age_name = [\"<10\",\"10-14\",\"15-19\",\"20-24\",\"25-29\",\"30-34\",\"35-39\",\"40+\"]\n",
    "\n",
    "# Categorize existing players using age bins\n",
    "player_specs[\"Age Ranges\"] = pd.cut(player_specs[\"Age\"], ages, labels=age_name)\n",
    "\n",
    "# Calculate the numbers and percentages by age group\n",
    "age_specs_total = player_specs[\"Age Ranges\"].value_counts()\n",
    "age_specs_mean = age_specs_total / number_players * 100\n",
    "age_demographics = pd.DataFrame({\"Total Count\":age_specs_total, \n",
    "                                \"Percentage of Players\":age_specs_mean})\n",
    "\n",
    "# Rounding\n",
    "age_demographics = age_demographics.round(2)\n",
    "\n",
    "# Sort for final table display\n",
    "age_demographics.sort_index()"
   ]
  },
  {
   "cell_type": "markdown",
   "metadata": {},
   "source": [
    "### Purchasing Analysis (Age)\n",
    "* Bin the purchase_data data frame by age\n",
    "* Run basic calculations to obtain purchase count, avg. purchase price, avg. purchase total per person etc. in the table below\n",
    "* Create a summary data frame to hold the results\n",
    "* Optional: give the displayed data cleaner formatting\n",
    "* Display the summary data frame"
   ]
  },
  {
   "cell_type": "code",
   "execution_count": 16,
   "metadata": {},
   "outputs": [
    {
     "data": {
      "text/html": [
       "<div>\n",
       "<style scoped>\n",
       "    .dataframe tbody tr th:only-of-type {\n",
       "        vertical-align: middle;\n",
       "    }\n",
       "\n",
       "    .dataframe tbody tr th {\n",
       "        vertical-align: top;\n",
       "    }\n",
       "\n",
       "    .dataframe thead th {\n",
       "        text-align: right;\n",
       "    }\n",
       "</style>\n",
       "<table border=\"1\" class=\"dataframe\">\n",
       "  <thead>\n",
       "    <tr style=\"text-align: right;\">\n",
       "      <th></th>\n",
       "      <th>Purchase Count</th>\n",
       "      <th>Total Purchase Value</th>\n",
       "      <th>Average Purchase Price</th>\n",
       "      <th>Avg Total Purchase per Person</th>\n",
       "    </tr>\n",
       "  </thead>\n",
       "  <tbody>\n",
       "    <tr>\n",
       "      <th>10-14</th>\n",
       "      <td>28</td>\n",
       "      <td>$82.78</td>\n",
       "      <td>$2.96</td>\n",
       "      <td>$3.76</td>\n",
       "    </tr>\n",
       "    <tr>\n",
       "      <th>15-19</th>\n",
       "      <td>136</td>\n",
       "      <td>$412.89</td>\n",
       "      <td>$3.04</td>\n",
       "      <td>$3.86</td>\n",
       "    </tr>\n",
       "    <tr>\n",
       "      <th>20-24</th>\n",
       "      <td>365</td>\n",
       "      <td>$1,114.06</td>\n",
       "      <td>$3.05</td>\n",
       "      <td>$4.32</td>\n",
       "    </tr>\n",
       "    <tr>\n",
       "      <th>25-29</th>\n",
       "      <td>101</td>\n",
       "      <td>$293.00</td>\n",
       "      <td>$2.90</td>\n",
       "      <td>$3.81</td>\n",
       "    </tr>\n",
       "    <tr>\n",
       "      <th>30-34</th>\n",
       "      <td>73</td>\n",
       "      <td>$214.00</td>\n",
       "      <td>$2.93</td>\n",
       "      <td>$4.12</td>\n",
       "    </tr>\n",
       "    <tr>\n",
       "      <th>35-39</th>\n",
       "      <td>41</td>\n",
       "      <td>$147.67</td>\n",
       "      <td>$3.60</td>\n",
       "      <td>$4.76</td>\n",
       "    </tr>\n",
       "    <tr>\n",
       "      <th>40+</th>\n",
       "      <td>13</td>\n",
       "      <td>$38.24</td>\n",
       "      <td>$2.94</td>\n",
       "      <td>$3.19</td>\n",
       "    </tr>\n",
       "    <tr>\n",
       "      <th>&lt;10</th>\n",
       "      <td>23</td>\n",
       "      <td>$77.13</td>\n",
       "      <td>$3.35</td>\n",
       "      <td>$4.54</td>\n",
       "    </tr>\n",
       "  </tbody>\n",
       "</table>\n",
       "</div>"
      ],
      "text/plain": [
       "      Purchase Count Total Purchase Value Average Purchase Price  \\\n",
       "10-14             28               $82.78                  $2.96   \n",
       "15-19            136              $412.89                  $3.04   \n",
       "20-24            365            $1,114.06                  $3.05   \n",
       "25-29            101              $293.00                  $2.90   \n",
       "30-34             73              $214.00                  $2.93   \n",
       "35-39             41              $147.67                  $3.60   \n",
       "40+               13               $38.24                  $2.94   \n",
       "<10               23               $77.13                  $3.35   \n",
       "\n",
       "      Avg Total Purchase per Person  \n",
       "10-14                         $3.76  \n",
       "15-19                         $3.86  \n",
       "20-24                         $4.32  \n",
       "25-29                         $3.81  \n",
       "30-34                         $4.12  \n",
       "35-39                         $4.76  \n",
       "40+                           $3.19  \n",
       "<10                           $4.54  "
      ]
     },
     "execution_count": 16,
     "metadata": {},
     "output_type": "execute_result"
    }
   ],
   "source": [
    "# Bin the purchase data by age group\n",
    "Purchasing_df = purchase_info\n",
    "Purchasing_df[\"Age Ranges\"] = pd.cut(Purchasing_df[\"Age\"], ages, labels=age_name)\n",
    "\n",
    "# Complete basic calculations\n",
    "age_total_purchase = Purchasing_df.groupby([\"Age Ranges\"]).sum()[\"Price\"].rename(\"Total Purchase Value\")\n",
    "age_avg_purchase = Purchasing_df.groupby([\"Age Ranges\"]).mean()[\"Price\"].rename(\"Average Purchase Price\")\n",
    "age_total_counts = Purchasing_df.groupby([\"Age Ranges\"]).count()[\"Price\"].rename(\"Purchase Count\")\n",
    "\n",
    "# Calculate 'normalized' value (Average Purchase Total Per Person)\n",
    "normalized_purchase = age_total_purchase / age_demographics[\"Total Count\"]\n",
    "\n",
    "# Combine data into DataFrame\n",
    "purchasing_analysis = pd.DataFrame({\"Purchase Count\":age_total_counts,\n",
    "                                   \"Average Purchase Price\":age_avg_purchase,\n",
    "                                   \"Total Purchase Value\":age_total_purchase,\n",
    "                                   \"Normalized Totals\":normalized_purchase\n",
    "                                   })\n",
    "\n",
    "# Clean up dataframe\n",
    "purchasing_analysis[\"Average Purchase Price\"] = purchasing_analysis[\"Average Purchase Price\"].map(\"${:,.2f}\".format)\n",
    "purchasing_analysis[\"Total Purchase Value\"] = purchasing_analysis[\"Total Purchase Value\"].map(\"${:,.2f}\".format)\n",
    "purchasing_analysis[\"Purchase Count\"] = purchasing_analysis[\"Purchase Count\"].map(\"{:,}\".format)\n",
    "purchasing_analysis[\"Avg Total Purchase per Person\"] = purchasing_analysis[\"Normalized Totals\"].map(\"${:,.2f}\".format)\n",
    "purchasing_analysis = purchasing_analysis.loc[:,[\"Purchase Count\",\"Total Purchase Value\",\"Average Purchase Price\",\"Avg Total Purchase per Person\"]]\n",
    "\n",
    "purchasing_analysis"
   ]
  },
  {
   "cell_type": "markdown",
   "metadata": {},
   "source": [
    "### Top Spenders\n",
    "* Run basic calculations to obtain the results in the table below\n",
    "* Create a summary data frame to hold the results\n",
    "* Sort the total purchase value column in descending order\n",
    "* Optional: give the displayed data cleaner formatting\n",
    "* Display a preview of the summary data frame"
   ]
  },
  {
   "cell_type": "markdown",
   "metadata": {},
   "source": [
    "### Determine the highest 5 spenders in data."
   ]
  },
  {
   "cell_type": "code",
   "execution_count": null,
   "metadata": {},
   "outputs": [],
   "source": [
    "Spenders = Purchasing_df.groupby([\"SN\"]).sum()[\"Price\"]\n",
    "Sorted_Spenders = Spenders.sort_values(ascending=False)\n",
    "Sorted_spend_ren = Sorted_Spenders.rename(\"Total Purchase Value\")\n",
    "Sorted_spend_ren.head()"
   ]
  },
  {
   "cell_type": "code",
   "execution_count": null,
   "metadata": {},
   "outputs": [],
   "source": [
    "Count_Per_SN = Purchasing_df.groupby([\"SN\"]).SN.count()\n",
    "sorted_count = Count_Per_SN.sort_values(ascending=False)\n",
    "rename_count = sorted_count.rename(\"Purchase Count\")\n",
    "rename_count.head()"
   ]
  },
  {
   "cell_type": "code",
   "execution_count": null,
   "metadata": {},
   "outputs": [],
   "source": [
    "#determine average purchase price\n",
    "Avg_purchase_price = Sorted_spend_ren / rename_count\n",
    "Avg_purchase_ren = Avg_purchase_price.rename(\"Average Purchase Price\")\n"
   ]
  },
  {
   "cell_type": "code",
   "execution_count": null,
   "metadata": {},
   "outputs": [],
   "source": [
    "#create final dataframe with concat function.\n",
    "Top_Spending_DF = pd.concat([rename_count, Sorted_spend_ren, Avg_purchase_ren], axis=1, sort=True)\n",
    "sort_Top_Spenders = Top_Spending_DF.sort_values(by=[\"Total Purchase Value\"], ascending=False)\n",
    "sort_Top_Spenders.round(2).head()"
   ]
  },
  {
   "cell_type": "code",
   "execution_count": null,
   "metadata": {},
   "outputs": [],
   "source": [
    "final_spenders = sort_Top_Spenders.iloc[:5]\n",
    "final_spenders"
   ]
  },
  {
   "cell_type": "markdown",
   "metadata": {},
   "source": [
    "## Most Popular Items"
   ]
  },
  {
   "cell_type": "markdown",
   "metadata": {},
   "source": [
    "* Retrieve the Item ID, Item Name, and Item Price columns\n",
    "\n",
    "\n",
    "* Group by Item ID and Item Name. Perform calculations to obtain purchase count, item price, and total purchase value\n",
    "\n",
    "\n",
    "* Create a summary data frame to hold the results\n",
    "\n",
    "\n",
    "* Sort the purchase count column in descending order\n",
    "\n",
    "\n",
    "* Optional: give the displayed data cleaner formatting\n",
    "\n",
    "\n",
    "* Display a preview of the summary data frame\n",
    "\n"
   ]
  },
  {
   "cell_type": "code",
   "execution_count": null,
   "metadata": {},
   "outputs": [],
   "source": [
    "# Create initial groupby series with Item ID, Item Name and get the sum of the Price column\n",
    "\n",
    "most_popular_item_Df = Purchasing_df.groupby([\"Item ID\",\"Item Name\"]).sum()[\"Price\"]\n",
    "rename_sum = most_popular_item_Df.rename(\"Total Purchase Value\")\n",
    "sum_popular_item_sorted = rename_sum.sort_values(ascending=False)\n",
    "sum_popular_item_sorted.head()"
   ]
  },
  {
   "cell_type": "code",
   "execution_count": null,
   "metadata": {},
   "outputs": [],
   "source": []
  },
  {
   "cell_type": "code",
   "execution_count": null,
   "metadata": {},
   "outputs": [],
   "source": []
  },
  {
   "cell_type": "code",
   "execution_count": null,
   "metadata": {},
   "outputs": [],
   "source": []
  },
  {
   "cell_type": "code",
   "execution_count": null,
   "metadata": {},
   "outputs": [],
   "source": [
    "Most_Pop_DF = pd.concat([sum_popular_item_sorted], axis=1, sort=True)\n",
    "Most_Pop_DF.head()"
   ]
  },
  {
   "cell_type": "code",
   "execution_count": null,
   "metadata": {},
   "outputs": [],
   "source": []
  },
  {
   "cell_type": "markdown",
   "metadata": {},
   "source": [
    "## Most Profitable Items"
   ]
  },
  {
   "cell_type": "markdown",
   "metadata": {},
   "source": [
    "* Sort the above table by total purchase value in descending order\n",
    "\n",
    "\n",
    "* Optional: give the displayed data cleaner formatting\n",
    "\n",
    "\n",
    "* Display a preview of the data frame\n",
    "\n"
   ]
  },
  {
   "cell_type": "code",
   "execution_count": null,
   "metadata": {
    "scrolled": true
   },
   "outputs": [],
   "source": [
    "Most_Pop_sorted = Most_Pop_DF.sort_values(by=\"Total Purchase Value\", ascending=False)\n",
    "Most_Pop_sorted.head()"
   ]
  }
 ],
 "metadata": {
  "anaconda-cloud": {},
  "kernel_info": {
   "name": "python3"
  },
  "kernelspec": {
   "display_name": "Python 3",
   "language": "python",
   "name": "python3"
  },
  "language_info": {
   "codemirror_mode": {
    "name": "ipython",
    "version": 3
   },
   "file_extension": ".py",
   "mimetype": "text/x-python",
   "name": "python",
   "nbconvert_exporter": "python",
   "pygments_lexer": "ipython3",
   "version": "3.6.5"
  },
  "nteract": {
   "version": "0.2.0"
  }
 },
 "nbformat": 4,
 "nbformat_minor": 2
}
